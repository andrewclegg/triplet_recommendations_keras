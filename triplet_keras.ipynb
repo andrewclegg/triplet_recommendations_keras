{
 "cells": [
  {
   "cell_type": "markdown",
   "metadata": {},
   "source": [
    "# Recommendations in Keras using triplet loss\n",
    "Along the lines of BPR [1]. \n",
    "\n",
    "[1] Rendle, Steffen, et al. \"BPR: Bayesian personalized ranking from implicit feedback.\" Proceedings of the Twenty-Fifth Conference on Uncertainty in Artificial Intelligence. AUAI Press, 2009.\n",
    "\n",
    "This is implemented (more efficiently) in LightFM (https://github.com/lyst/lightfm). See the MovieLens example (https://github.com/lyst/lightfm/blob/master/examples/movielens/example.ipynb) for results comparable to this notebook.\n",
    "\n",
    "## Set up the architecture\n",
    "A simple dense layer for both users and items: this is exactly equivalent to latent factor matrix when multiplied by binary user and item indices. There are three inputs: users, positive items, and negative items. In the triplet objective we try to make the positive item rank higher than the negative item for that user.\n",
    "\n",
    "Because we want just one single embedding for the items, we use shared weights for the positive and negative item inputs (a siamese architecture).\n",
    "\n",
    "This is all very simple but could be made arbitrarily complex, with more layers, conv layers and so on. I expect we'll be seeing a lot of papers doing just that.\n"
   ]
  },
  {
   "cell_type": "code",
   "execution_count": 32,
   "metadata": {},
   "outputs": [],
   "source": [
    "\"\"\"\n",
    "Triplet loss network example for recommenders\n",
    "\"\"\"\n",
    "\n",
    "from __future__ import print_function\n",
    "\n",
    "import numpy as np\n",
    "\n",
    "from keras import backend as K\n",
    "from keras.models import Model\n",
    "from keras.layers import Embedding, Flatten, Input\n",
    "from keras.layers.merge import concatenate\n",
    "from keras.optimizers import Adam\n",
    "from keras.engine.topology import Layer\n",
    "\n",
    "import data\n",
    "import metrics\n",
    "\n",
    "\n",
    "class BprLoss(Layer):\n",
    "    \n",
    "    def __init__(self, **kwargs):\n",
    "        self.support_mask = True\n",
    "        super(BprLoss, self).__init__(**kwargs)\n",
    "\n",
    "    def build(self, input_shape):\n",
    "        super(BprLoss, self).build(input_shape)\n",
    "        \n",
    "    def call(self, inputs):\n",
    "        \n",
    "        assert len(inputs) == 3\n",
    "        pos_item = inputs[0]\n",
    "        neg_item = inputs[1]\n",
    "        user = inputs[2]\n",
    "        \n",
    "        loss = 1.0 - K.sigmoid(\n",
    "            K.sum(user * pos_item, axis=-1, keepdims=True) -\n",
    "            K.sum(user * neg_item, axis=-1, keepdims=True))\n",
    "\n",
    "        return loss\n",
    "\n",
    "\n",
    "def identity_loss(y_true, y_pred):\n",
    "\n",
    "    return K.mean(y_pred * y_true)\n",
    "\n",
    "\n",
    "def build_model(num_users, num_items, latent_dim):\n",
    "\n",
    "    positive_item_input = Input((1, ), name='positive_item_input')\n",
    "    negative_item_input = Input((1, ), name='negative_item_input')\n",
    "\n",
    "    # Shared embedding layer for positive and negative items\n",
    "    item_embedding_layer = Embedding(\n",
    "        num_items, latent_dim, name='item_embedding', input_length=1)\n",
    "\n",
    "    user_input = Input((1, ), name='user_input')\n",
    "\n",
    "    positive_item_embedding = Flatten()(item_embedding_layer(\n",
    "        positive_item_input))\n",
    "    negative_item_embedding = Flatten()(item_embedding_layer(\n",
    "        negative_item_input))\n",
    "    user_embedding = Flatten()(Embedding(\n",
    "        num_users, latent_dim, name='user_embedding', input_length=1)(\n",
    "            user_input))\n",
    "\n",
    "    loss = BprLoss(name='bpr_loss')([positive_item_embedding, negative_item_embedding, user_embedding])\n",
    "\n",
    "    model = Model(\n",
    "        inputs=[positive_item_input, negative_item_input, user_input],\n",
    "        outputs=loss)\n",
    "    model.compile(loss=identity_loss, optimizer=Adam())\n",
    "\n",
    "    return model"
   ]
  },
  {
   "cell_type": "markdown",
   "metadata": {},
   "source": [
    "## Load and transform data\n",
    "We're going to load the Movielens 100k dataset and create triplets of (user, known positive item, randomly sampled negative item).\n",
    "\n",
    "The success metric is AUC: in this case, the probability that a randomly chosen known positive item from the test set is ranked higher for a given user than a ranomly chosen negative item."
   ]
  },
  {
   "cell_type": "code",
   "execution_count": 33,
   "metadata": {},
   "outputs": [
    {
     "name": "stdout",
     "output_type": "stream",
     "text": [
      "____________________________________________________________________________________________________\n",
      "Layer (type)                     Output Shape          Param #     Connected to                     \n",
      "====================================================================================================\n",
      "positive_item_input (InputLayer) (None, 1)             0                                            \n",
      "____________________________________________________________________________________________________\n",
      "negative_item_input (InputLayer) (None, 1)             0                                            \n",
      "____________________________________________________________________________________________________\n",
      "user_input (InputLayer)          (None, 1)             0                                            \n",
      "____________________________________________________________________________________________________\n",
      "item_embedding (Embedding)       (None, 1, 100)        168300      positive_item_input[0][0]        \n",
      "                                                                   negative_item_input[0][0]        \n",
      "____________________________________________________________________________________________________\n",
      "user_embedding (Embedding)       (None, 1, 100)        94400       user_input[0][0]                 \n",
      "____________________________________________________________________________________________________\n",
      "flatten_22 (Flatten)             (None, 100)           0           item_embedding[0][0]             \n",
      "____________________________________________________________________________________________________\n",
      "flatten_23 (Flatten)             (None, 100)           0           item_embedding[1][0]             \n",
      "____________________________________________________________________________________________________\n",
      "flatten_24 (Flatten)             (None, 100)           0           user_embedding[0][0]             \n",
      "____________________________________________________________________________________________________\n",
      "bpr_loss (BprLoss)               [(None, 100), (None,  0           flatten_22[0][0]                 \n",
      "                                                                   flatten_23[0][0]                 \n",
      "                                                                   flatten_24[0][0]                 \n",
      "====================================================================================================\n",
      "Total params: 262,700\n",
      "Trainable params: 262,700\n",
      "Non-trainable params: 0\n",
      "____________________________________________________________________________________________________\n",
      "None\n",
      "AUC before training 0.497046289877\n"
     ]
    }
   ],
   "source": [
    "latent_dim = 100\n",
    "num_epochs = 10\n",
    "\n",
    "# Read data\n",
    "train, test = data.get_movielens_data()\n",
    "num_users, num_items = train.shape\n",
    "\n",
    "# Prepare the test triplets\n",
    "test_uid, test_pid, test_nid = data.get_triplets(test)\n",
    "\n",
    "model = build_model(num_users, num_items, latent_dim)\n",
    "\n",
    "# Print the model structure\n",
    "print(model.summary())\n",
    "\n",
    "# Sanity check, should be around 0.5\n",
    "print('AUC before training %s' % metrics.full_auc(model, test))"
   ]
  },
  {
   "cell_type": "markdown",
   "metadata": {},
   "source": [
    "## Run the model\n",
    "Run for a couple of epochs, checking the AUC after every epoch."
   ]
  },
  {
   "cell_type": "code",
   "execution_count": 34,
   "metadata": {},
   "outputs": [
    {
     "name": "stdout",
     "output_type": "stream",
     "text": [
      "Epoch 0\n",
      "AUC 0.832828481741\n",
      "Epoch 1\n",
      "AUC 0.854822516458\n",
      "Epoch 2\n",
      "AUC 0.863386414061\n",
      "Epoch 3\n",
      "AUC 0.871770897517\n",
      "Epoch 4\n",
      "AUC 0.879935496328\n",
      "Epoch 5\n",
      "AUC 0.886749376039\n",
      "Epoch 6\n",
      "AUC 0.893268786229\n",
      "Epoch 7\n",
      "AUC 0.897671810193\n",
      "Epoch 8\n",
      "AUC 0.901398281636\n",
      "Epoch 9\n",
      "AUC 0.904418201168\n"
     ]
    }
   ],
   "source": [
    "for epoch in range(num_epochs):\n",
    "\n",
    "    print('Epoch %s' % epoch)\n",
    "\n",
    "    # Sample triplets from the training data\n",
    "    uid, pid, nid = data.get_triplets(train)\n",
    "\n",
    "    X = {\n",
    "        'user_input': uid,\n",
    "        'positive_item_input': pid,\n",
    "        'negative_item_input': nid\n",
    "    }\n",
    "\n",
    "    model.fit(X,\n",
    "              np.ones(len(uid)),\n",
    "              batch_size=64,\n",
    "              epochs=1,\n",
    "              verbose=0,\n",
    "              shuffle=True)\n",
    "\n",
    "    print('AUC %s' % metrics.full_auc(model, test))"
   ]
  },
  {
   "cell_type": "markdown",
   "metadata": {},
   "source": [
    "The AUC is in the low-90s. At some point we start overfitting, so it would be a good idea to stop early or add some regularization."
   ]
  }
 ],
 "metadata": {
  "kernelspec": {
   "display_name": "Python 2",
   "language": "python",
   "name": "python2"
  },
  "language_info": {
   "codemirror_mode": {
    "name": "ipython",
    "version": 2
   },
   "file_extension": ".py",
   "mimetype": "text/x-python",
   "name": "python",
   "nbconvert_exporter": "python",
   "pygments_lexer": "ipython2",
   "version": "2.7.13"
  }
 },
 "nbformat": 4,
 "nbformat_minor": 1
}
